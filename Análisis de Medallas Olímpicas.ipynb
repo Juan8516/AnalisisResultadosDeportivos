{
 "cells": [
  {
   "cell_type": "markdown",
   "id": "0c14ab17",
   "metadata": {},
   "source": [
    "### Análisis de Medallas Olímpicas\n",
    "\n",
    "### Objetivo\n",
    "Se realiza un análisis exploratorio de datos (EDA) sobre un conjunto de datos de medallas olímpicas utilizando Pandas. Este proyecto aplica conceptos sobre **Series**, **DataFrames**, **limpieza de datos**, **operaciones básicas**, **filtrado** y **agregación** en Pandas.\n",
    "\n",
    "### Se realizara\n",
    "Trabajo con el conjunto de datos en *medallas.csv*, que incluye información sobre las medallas de oro, plata, bronce y el total obtenido por cada país en los Juegos Olímpicos.\n",
    "\n",
    "Objetivos de tareas básicas, que son:\n",
    "\n",
    "1. **Cargar los Datos**: Importar los datos desde el archivo CSV a un DataFrame de Pandas.\n",
    "\n",
    "2. **Exploración Inicial**: Utilizar métodos básicos para explorar el tamaño, las columnas y los tipos de datos del DataFrame.\n",
    "\n",
    "3. **Limpieza de Datos**: Identificar y manejar valores faltantes o incorrectos, especialmente en las columnas de medallas donde los valores faltantes indican cero medallas.\n",
    "\n",
    "4. **Análisis de Medallas de Oro por País**: Realiza las operaciones que sean necesarias para identificar cuáles fueron los 3 países con más medallas de Oro en total (vas a necesitar investigar los métodos de dataframes para encontrar cuál te permite ordenar los valores de mayor a menor o viceversa).\n",
    "\n",
    "5. **Análisis de Medallas Totales por País**: Obtener un dataframe que contenga sólo los países que ganaron más de 10 medallas en total."
   ]
  },
  {
   "cell_type": "code",
   "execution_count": 27,
   "id": "f676e71e",
   "metadata": {},
   "outputs": [],
   "source": [
    "import pandas as pd"
   ]
  },
  {
   "cell_type": "code",
   "execution_count": 54,
   "id": "835f388f-15e9-4f12-acef-da7209396b31",
   "metadata": {
    "scrolled": true
   },
   "outputs": [
    {
     "data": {
      "text/html": [
       "<div>\n",
       "<style scoped>\n",
       "    .dataframe tbody tr th:only-of-type {\n",
       "        vertical-align: middle;\n",
       "    }\n",
       "\n",
       "    .dataframe tbody tr th {\n",
       "        vertical-align: top;\n",
       "    }\n",
       "\n",
       "    .dataframe thead th {\n",
       "        text-align: right;\n",
       "    }\n",
       "</style>\n",
       "<table border=\"1\" class=\"dataframe\">\n",
       "  <thead>\n",
       "    <tr style=\"text-align: right;\">\n",
       "      <th></th>\n",
       "      <th>Oro</th>\n",
       "      <th>Plata</th>\n",
       "      <th>Bronce</th>\n",
       "      <th>Total</th>\n",
       "      <th>Pais</th>\n",
       "    </tr>\n",
       "  </thead>\n",
       "  <tbody>\n",
       "    <tr>\n",
       "      <th>0</th>\n",
       "      <td>NaN</td>\n",
       "      <td>1.0</td>\n",
       "      <td>2.0</td>\n",
       "      <td>3</td>\n",
       "      <td>Argentina</td>\n",
       "    </tr>\n",
       "    <tr>\n",
       "      <th>1</th>\n",
       "      <td>NaN</td>\n",
       "      <td>2.0</td>\n",
       "      <td>2.0</td>\n",
       "      <td>4</td>\n",
       "      <td>Armenia</td>\n",
       "    </tr>\n",
       "    <tr>\n",
       "      <th>2</th>\n",
       "      <td>17.0</td>\n",
       "      <td>7.0</td>\n",
       "      <td>22.0</td>\n",
       "      <td>46</td>\n",
       "      <td>Australia</td>\n",
       "    </tr>\n",
       "    <tr>\n",
       "      <th>3</th>\n",
       "      <td>1.0</td>\n",
       "      <td>1.0</td>\n",
       "      <td>5.0</td>\n",
       "      <td>7</td>\n",
       "      <td>Austria</td>\n",
       "    </tr>\n",
       "    <tr>\n",
       "      <th>4</th>\n",
       "      <td>NaN</td>\n",
       "      <td>3.0</td>\n",
       "      <td>4.0</td>\n",
       "      <td>7</td>\n",
       "      <td>Azerbaijan</td>\n",
       "    </tr>\n",
       "    <tr>\n",
       "      <th>...</th>\n",
       "      <td>...</td>\n",
       "      <td>...</td>\n",
       "      <td>...</td>\n",
       "      <td>...</td>\n",
       "      <td>...</td>\n",
       "    </tr>\n",
       "    <tr>\n",
       "      <th>88</th>\n",
       "      <td>NaN</td>\n",
       "      <td>1.0</td>\n",
       "      <td>NaN</td>\n",
       "      <td>1</td>\n",
       "      <td>Turkmenistan</td>\n",
       "    </tr>\n",
       "    <tr>\n",
       "      <th>89</th>\n",
       "      <td>2.0</td>\n",
       "      <td>1.0</td>\n",
       "      <td>1.0</td>\n",
       "      <td>4</td>\n",
       "      <td>Uganda</td>\n",
       "    </tr>\n",
       "    <tr>\n",
       "      <th>90</th>\n",
       "      <td>1.0</td>\n",
       "      <td>6.0</td>\n",
       "      <td>12.0</td>\n",
       "      <td>19</td>\n",
       "      <td>Ukraine</td>\n",
       "    </tr>\n",
       "    <tr>\n",
       "      <th>91</th>\n",
       "      <td>3.0</td>\n",
       "      <td>NaN</td>\n",
       "      <td>2.0</td>\n",
       "      <td>5</td>\n",
       "      <td>Uzbekistan</td>\n",
       "    </tr>\n",
       "    <tr>\n",
       "      <th>92</th>\n",
       "      <td>1.0</td>\n",
       "      <td>3.0</td>\n",
       "      <td>NaN</td>\n",
       "      <td>4</td>\n",
       "      <td>Venezuela</td>\n",
       "    </tr>\n",
       "  </tbody>\n",
       "</table>\n",
       "<p>93 rows × 5 columns</p>\n",
       "</div>"
      ],
      "text/plain": [
       "     Oro  Plata  Bronce  Total          Pais\n",
       "0    NaN    1.0     2.0      3     Argentina\n",
       "1    NaN    2.0     2.0      4       Armenia\n",
       "2   17.0    7.0    22.0     46     Australia\n",
       "3    1.0    1.0     5.0      7       Austria\n",
       "4    NaN    3.0     4.0      7    Azerbaijan\n",
       "..   ...    ...     ...    ...           ...\n",
       "88   NaN    1.0     NaN      1  Turkmenistan\n",
       "89   2.0    1.0     1.0      4        Uganda\n",
       "90   1.0    6.0    12.0     19       Ukraine\n",
       "91   3.0    NaN     2.0      5    Uzbekistan\n",
       "92   1.0    3.0     NaN      4     Venezuela\n",
       "\n",
       "[93 rows x 5 columns]"
      ]
     },
     "execution_count": 54,
     "metadata": {},
     "output_type": "execute_result"
    }
   ],
   "source": [
    "#Exportacion de datos\n",
    "df = pd.read_csv(r\"C:\\Users\\juani\\OneDrive\\Escritorio\\Proyectos\\01.Data\\02BloquePandasParte1\\AnalisisMedallasOlimpicas\\medallas.csv\")\n",
    "df"
   ]
  },
  {
   "cell_type": "code",
   "execution_count": 55,
   "id": "ccf3f0be-f2e5-404b-a9f4-4a3d8708d521",
   "metadata": {},
   "outputs": [
    {
     "data": {
      "text/plain": [
       "pandas.core.frame.DataFrame"
      ]
     },
     "execution_count": 55,
     "metadata": {},
     "output_type": "execute_result"
    }
   ],
   "source": [
    "#Tipo de dato dataframe\n",
    "type(df)"
   ]
  },
  {
   "cell_type": "code",
   "execution_count": 56,
   "id": "d6c216de-1f64-46d1-80a6-1dc393316103",
   "metadata": {},
   "outputs": [
    {
     "data": {
      "text/plain": [
       "(93, 5)"
      ]
     },
     "execution_count": 56,
     "metadata": {},
     "output_type": "execute_result"
    }
   ],
   "source": [
    "#Devuelte numero de filas y columnas\n",
    "df.shape"
   ]
  },
  {
   "cell_type": "code",
   "execution_count": 31,
   "id": "e704a89e-910c-4941-82a4-26d11cc4e204",
   "metadata": {},
   "outputs": [
    {
     "data": {
      "text/plain": [
       "Index(['Oro', 'Plata', 'Bronce', 'Total', 'Pais'], dtype='object')"
      ]
     },
     "execution_count": 31,
     "metadata": {},
     "output_type": "execute_result"
    }
   ],
   "source": [
    "#Muestra las columnas\n",
    "df.columns"
   ]
  },
  {
   "cell_type": "code",
   "execution_count": 58,
   "id": "9c0a02c5-7a0f-49a3-8712-0faad43bf226",
   "metadata": {},
   "outputs": [
    {
     "data": {
      "text/plain": [
       "<bound method DataFrame.info of      Oro  Plata  Bronce  Total          Pais\n",
       "0    NaN    1.0     2.0      3     Argentina\n",
       "1    NaN    2.0     2.0      4       Armenia\n",
       "2   17.0    7.0    22.0     46     Australia\n",
       "3    1.0    1.0     5.0      7       Austria\n",
       "4    NaN    3.0     4.0      7    Azerbaijan\n",
       "..   ...    ...     ...    ...           ...\n",
       "88   NaN    1.0     NaN      1  Turkmenistan\n",
       "89   2.0    1.0     1.0      4        Uganda\n",
       "90   1.0    6.0    12.0     19       Ukraine\n",
       "91   3.0    NaN     2.0      5    Uzbekistan\n",
       "92   1.0    3.0     NaN      4     Venezuela\n",
       "\n",
       "[93 rows x 5 columns]>"
      ]
     },
     "execution_count": 58,
     "metadata": {},
     "output_type": "execute_result"
    }
   ],
   "source": [
    "#Muestra informacion detallada de columnas y filas\n",
    "df.info"
   ]
  },
  {
   "cell_type": "code",
   "execution_count": 59,
   "id": "54e70536-9fa8-4e2f-ad82-f87422d1b551",
   "metadata": {},
   "outputs": [
    {
     "name": "stdout",
     "output_type": "stream",
     "text": [
      "<class 'pandas.core.frame.DataFrame'>\n",
      "RangeIndex: 93 entries, 0 to 92\n",
      "Data columns (total 5 columns):\n",
      " #   Column  Non-Null Count  Dtype  \n",
      "---  ------  --------------  -----  \n",
      " 0   Oro     65 non-null     float64\n",
      " 1   Plata   69 non-null     float64\n",
      " 2   Bronce  76 non-null     float64\n",
      " 3   Total   93 non-null     int64  \n",
      " 4   Pais    93 non-null     object \n",
      "dtypes: float64(3), int64(1), object(1)\n",
      "memory usage: 3.8+ KB\n"
     ]
    }
   ],
   "source": [
    "#Muestra informacion mas detallada de columnas y filas\n",
    "df.info()"
   ]
  },
  {
   "cell_type": "code",
   "execution_count": 34,
   "id": "3efa4607-c743-4164-a174-edf24b653508",
   "metadata": {},
   "outputs": [
    {
     "data": {
      "text/html": [
       "<div>\n",
       "<style scoped>\n",
       "    .dataframe tbody tr th:only-of-type {\n",
       "        vertical-align: middle;\n",
       "    }\n",
       "\n",
       "    .dataframe tbody tr th {\n",
       "        vertical-align: top;\n",
       "    }\n",
       "\n",
       "    .dataframe thead th {\n",
       "        text-align: right;\n",
       "    }\n",
       "</style>\n",
       "<table border=\"1\" class=\"dataframe\">\n",
       "  <thead>\n",
       "    <tr style=\"text-align: right;\">\n",
       "      <th></th>\n",
       "      <th>Oro</th>\n",
       "      <th>Plata</th>\n",
       "      <th>Bronce</th>\n",
       "      <th>Total</th>\n",
       "    </tr>\n",
       "  </thead>\n",
       "  <tbody>\n",
       "    <tr>\n",
       "      <th>count</th>\n",
       "      <td>65.000000</td>\n",
       "      <td>69.000000</td>\n",
       "      <td>76.000000</td>\n",
       "      <td>93.000000</td>\n",
       "    </tr>\n",
       "    <tr>\n",
       "      <th>mean</th>\n",
       "      <td>4.400000</td>\n",
       "      <td>4.768116</td>\n",
       "      <td>4.934211</td>\n",
       "      <td>10.548387</td>\n",
       "    </tr>\n",
       "    <tr>\n",
       "      <th>std</th>\n",
       "      <td>7.633806</td>\n",
       "      <td>7.276362</td>\n",
       "      <td>6.261705</td>\n",
       "      <td>18.897617</td>\n",
       "    </tr>\n",
       "    <tr>\n",
       "      <th>min</th>\n",
       "      <td>1.000000</td>\n",
       "      <td>1.000000</td>\n",
       "      <td>1.000000</td>\n",
       "      <td>1.000000</td>\n",
       "    </tr>\n",
       "    <tr>\n",
       "      <th>25%</th>\n",
       "      <td>1.000000</td>\n",
       "      <td>1.000000</td>\n",
       "      <td>1.000000</td>\n",
       "      <td>2.000000</td>\n",
       "    </tr>\n",
       "    <tr>\n",
       "      <th>50%</th>\n",
       "      <td>2.000000</td>\n",
       "      <td>2.000000</td>\n",
       "      <td>2.000000</td>\n",
       "      <td>4.000000</td>\n",
       "    </tr>\n",
       "    <tr>\n",
       "      <th>75%</th>\n",
       "      <td>3.000000</td>\n",
       "      <td>5.000000</td>\n",
       "      <td>5.250000</td>\n",
       "      <td>8.000000</td>\n",
       "    </tr>\n",
       "    <tr>\n",
       "      <th>max</th>\n",
       "      <td>39.000000</td>\n",
       "      <td>41.000000</td>\n",
       "      <td>33.000000</td>\n",
       "      <td>113.000000</td>\n",
       "    </tr>\n",
       "  </tbody>\n",
       "</table>\n",
       "</div>"
      ],
      "text/plain": [
       "             Oro      Plata     Bronce       Total\n",
       "count  65.000000  69.000000  76.000000   93.000000\n",
       "mean    4.400000   4.768116   4.934211   10.548387\n",
       "std     7.633806   7.276362   6.261705   18.897617\n",
       "min     1.000000   1.000000   1.000000    1.000000\n",
       "25%     1.000000   1.000000   1.000000    2.000000\n",
       "50%     2.000000   2.000000   2.000000    4.000000\n",
       "75%     3.000000   5.000000   5.250000    8.000000\n",
       "max    39.000000  41.000000  33.000000  113.000000"
      ]
     },
     "execution_count": 34,
     "metadata": {},
     "output_type": "execute_result"
    }
   ],
   "source": [
    "#Devuelve informacion estadistica.\n",
    "df.describe()"
   ]
  },
  {
   "cell_type": "code",
   "execution_count": 60,
   "id": "a9fe18b6-4069-4813-b36d-2399291917c3",
   "metadata": {},
   "outputs": [
    {
     "data": {
      "text/html": [
       "<div>\n",
       "<style scoped>\n",
       "    .dataframe tbody tr th:only-of-type {\n",
       "        vertical-align: middle;\n",
       "    }\n",
       "\n",
       "    .dataframe tbody tr th {\n",
       "        vertical-align: top;\n",
       "    }\n",
       "\n",
       "    .dataframe thead th {\n",
       "        text-align: right;\n",
       "    }\n",
       "</style>\n",
       "<table border=\"1\" class=\"dataframe\">\n",
       "  <thead>\n",
       "    <tr style=\"text-align: right;\">\n",
       "      <th></th>\n",
       "      <th>Oro</th>\n",
       "      <th>Plata</th>\n",
       "      <th>Bronce</th>\n",
       "      <th>Total</th>\n",
       "      <th>Pais</th>\n",
       "    </tr>\n",
       "  </thead>\n",
       "  <tbody>\n",
       "    <tr>\n",
       "      <th>0</th>\n",
       "      <td>NaN</td>\n",
       "      <td>1.0</td>\n",
       "      <td>2.0</td>\n",
       "      <td>3</td>\n",
       "      <td>Argentina</td>\n",
       "    </tr>\n",
       "    <tr>\n",
       "      <th>1</th>\n",
       "      <td>NaN</td>\n",
       "      <td>2.0</td>\n",
       "      <td>2.0</td>\n",
       "      <td>4</td>\n",
       "      <td>Armenia</td>\n",
       "    </tr>\n",
       "    <tr>\n",
       "      <th>2</th>\n",
       "      <td>17.0</td>\n",
       "      <td>7.0</td>\n",
       "      <td>22.0</td>\n",
       "      <td>46</td>\n",
       "      <td>Australia</td>\n",
       "    </tr>\n",
       "    <tr>\n",
       "      <th>3</th>\n",
       "      <td>1.0</td>\n",
       "      <td>1.0</td>\n",
       "      <td>5.0</td>\n",
       "      <td>7</td>\n",
       "      <td>Austria</td>\n",
       "    </tr>\n",
       "    <tr>\n",
       "      <th>4</th>\n",
       "      <td>NaN</td>\n",
       "      <td>3.0</td>\n",
       "      <td>4.0</td>\n",
       "      <td>7</td>\n",
       "      <td>Azerbaijan</td>\n",
       "    </tr>\n",
       "  </tbody>\n",
       "</table>\n",
       "</div>"
      ],
      "text/plain": [
       "    Oro  Plata  Bronce  Total        Pais\n",
       "0   NaN    1.0     2.0      3   Argentina\n",
       "1   NaN    2.0     2.0      4     Armenia\n",
       "2  17.0    7.0    22.0     46   Australia\n",
       "3   1.0    1.0     5.0      7     Austria\n",
       "4   NaN    3.0     4.0      7  Azerbaijan"
      ]
     },
     "execution_count": 60,
     "metadata": {},
     "output_type": "execute_result"
    }
   ],
   "source": [
    "#Devuelve las 5 primeras filas del dataframe\n",
    "df.head()"
   ]
  },
  {
   "cell_type": "code",
   "execution_count": 61,
   "id": "374cd27d-9e1d-4804-8e36-441278d47768",
   "metadata": {},
   "outputs": [
    {
     "data": {
      "text/plain": [
       "0        Argentina\n",
       "1          Armenia\n",
       "2        Australia\n",
       "3          Austria\n",
       "4       Azerbaijan\n",
       "          ...     \n",
       "88    Turkmenistan\n",
       "89          Uganda\n",
       "90         Ukraine\n",
       "91      Uzbekistan\n",
       "92       Venezuela\n",
       "Name: Pais, Length: 93, dtype: object"
      ]
     },
     "execution_count": 61,
     "metadata": {},
     "output_type": "execute_result"
    }
   ],
   "source": [
    "#Muestra informacion de la columna Pais\n",
    "serie = df[\"Pais\"]\n",
    "serie"
   ]
  },
  {
   "cell_type": "code",
   "execution_count": 37,
   "id": "832fafe3-a276-4be2-81e7-c71bafc05668",
   "metadata": {},
   "outputs": [
    {
     "data": {
      "text/html": [
       "<div>\n",
       "<style scoped>\n",
       "    .dataframe tbody tr th:only-of-type {\n",
       "        vertical-align: middle;\n",
       "    }\n",
       "\n",
       "    .dataframe tbody tr th {\n",
       "        vertical-align: top;\n",
       "    }\n",
       "\n",
       "    .dataframe thead th {\n",
       "        text-align: right;\n",
       "    }\n",
       "</style>\n",
       "<table border=\"1\" class=\"dataframe\">\n",
       "  <thead>\n",
       "    <tr style=\"text-align: right;\">\n",
       "      <th></th>\n",
       "      <th>Oro</th>\n",
       "      <th>Plata</th>\n",
       "      <th>Bronce</th>\n",
       "      <th>Total</th>\n",
       "      <th>Pais</th>\n",
       "    </tr>\n",
       "  </thead>\n",
       "  <tbody>\n",
       "    <tr>\n",
       "      <th>0</th>\n",
       "      <td>NaN</td>\n",
       "      <td>1.0</td>\n",
       "      <td>2.0</td>\n",
       "      <td>3</td>\n",
       "      <td>Argentina</td>\n",
       "    </tr>\n",
       "    <tr>\n",
       "      <th>1</th>\n",
       "      <td>NaN</td>\n",
       "      <td>2.0</td>\n",
       "      <td>2.0</td>\n",
       "      <td>4</td>\n",
       "      <td>Armenia</td>\n",
       "    </tr>\n",
       "    <tr>\n",
       "      <th>2</th>\n",
       "      <td>17.0</td>\n",
       "      <td>7.0</td>\n",
       "      <td>22.0</td>\n",
       "      <td>46</td>\n",
       "      <td>Australia</td>\n",
       "    </tr>\n",
       "    <tr>\n",
       "      <th>3</th>\n",
       "      <td>1.0</td>\n",
       "      <td>1.0</td>\n",
       "      <td>5.0</td>\n",
       "      <td>7</td>\n",
       "      <td>Austria</td>\n",
       "    </tr>\n",
       "    <tr>\n",
       "      <th>4</th>\n",
       "      <td>NaN</td>\n",
       "      <td>3.0</td>\n",
       "      <td>4.0</td>\n",
       "      <td>7</td>\n",
       "      <td>Azerbaijan</td>\n",
       "    </tr>\n",
       "    <tr>\n",
       "      <th>...</th>\n",
       "      <td>...</td>\n",
       "      <td>...</td>\n",
       "      <td>...</td>\n",
       "      <td>...</td>\n",
       "      <td>...</td>\n",
       "    </tr>\n",
       "    <tr>\n",
       "      <th>88</th>\n",
       "      <td>NaN</td>\n",
       "      <td>1.0</td>\n",
       "      <td>NaN</td>\n",
       "      <td>1</td>\n",
       "      <td>Turkmenistan</td>\n",
       "    </tr>\n",
       "    <tr>\n",
       "      <th>89</th>\n",
       "      <td>2.0</td>\n",
       "      <td>1.0</td>\n",
       "      <td>1.0</td>\n",
       "      <td>4</td>\n",
       "      <td>Uganda</td>\n",
       "    </tr>\n",
       "    <tr>\n",
       "      <th>90</th>\n",
       "      <td>1.0</td>\n",
       "      <td>6.0</td>\n",
       "      <td>12.0</td>\n",
       "      <td>19</td>\n",
       "      <td>Ukraine</td>\n",
       "    </tr>\n",
       "    <tr>\n",
       "      <th>91</th>\n",
       "      <td>3.0</td>\n",
       "      <td>NaN</td>\n",
       "      <td>2.0</td>\n",
       "      <td>5</td>\n",
       "      <td>Uzbekistan</td>\n",
       "    </tr>\n",
       "    <tr>\n",
       "      <th>92</th>\n",
       "      <td>1.0</td>\n",
       "      <td>3.0</td>\n",
       "      <td>NaN</td>\n",
       "      <td>4</td>\n",
       "      <td>Venezuela</td>\n",
       "    </tr>\n",
       "  </tbody>\n",
       "</table>\n",
       "<p>93 rows × 5 columns</p>\n",
       "</div>"
      ],
      "text/plain": [
       "     Oro  Plata  Bronce  Total          Pais\n",
       "0    NaN    1.0     2.0      3     Argentina\n",
       "1    NaN    2.0     2.0      4       Armenia\n",
       "2   17.0    7.0    22.0     46     Australia\n",
       "3    1.0    1.0     5.0      7       Austria\n",
       "4    NaN    3.0     4.0      7    Azerbaijan\n",
       "..   ...    ...     ...    ...           ...\n",
       "88   NaN    1.0     NaN      1  Turkmenistan\n",
       "89   2.0    1.0     1.0      4        Uganda\n",
       "90   1.0    6.0    12.0     19       Ukraine\n",
       "91   3.0    NaN     2.0      5    Uzbekistan\n",
       "92   1.0    3.0     NaN      4     Venezuela\n",
       "\n",
       "[93 rows x 5 columns]"
      ]
     },
     "execution_count": 37,
     "metadata": {},
     "output_type": "execute_result"
    }
   ],
   "source": [
    "import pandas as pd\n",
    "\n",
    "df = pd.read_csv(r\"C:\\Users\\juani\\OneDrive\\Escritorio\\Proyectos\\01.Data\\02BloquePandasParte1\\AnalisisMedallasOlimpicas\\medallas.csv\")\n",
    "df"
   ]
  },
  {
   "cell_type": "code",
   "execution_count": 46,
   "id": "fbbcfb59-bbab-485e-a687-5e4655b4052a",
   "metadata": {},
   "outputs": [
    {
     "data": {
      "text/plain": [
       "pandas.core.frame.DataFrame"
      ]
     },
     "execution_count": 46,
     "metadata": {},
     "output_type": "execute_result"
    }
   ],
   "source": [
    "type(df)"
   ]
  },
  {
   "cell_type": "code",
   "execution_count": 62,
   "id": "b78afe57-d154-4009-b01b-056625fd4688",
   "metadata": {},
   "outputs": [
    {
     "name": "stdout",
     "output_type": "stream",
     "text": [
      "     Oro  Plata  Bronce  Total          Pais\n",
      "0    0.0    1.0     2.0      3     Argentina\n",
      "1    0.0    2.0     2.0      4       Armenia\n",
      "2   17.0    7.0    22.0     46     Australia\n",
      "3    1.0    1.0     5.0      7       Austria\n",
      "4    0.0    3.0     4.0      7    Azerbaijan\n",
      "..   ...    ...     ...    ...           ...\n",
      "88   0.0    1.0     0.0      1  Turkmenistan\n",
      "89   2.0    1.0     1.0      4        Uganda\n",
      "90   1.0    6.0    12.0     19       Ukraine\n",
      "91   3.0    0.0     2.0      5    Uzbekistan\n",
      "92   1.0    3.0     0.0      4     Venezuela\n",
      "\n",
      "[93 rows x 5 columns]\n"
     ]
    }
   ],
   "source": [
    "#Reemplazo de datos NaN por 0.\n",
    "sinMedalla = df.fillna(0)\n",
    "print(sinMedalla)"
   ]
  },
  {
   "cell_type": "code",
   "execution_count": 69,
   "id": "4f6afe3e-6b16-4b20-a898-780c0f603e32",
   "metadata": {},
   "outputs": [
    {
     "name": "stdout",
     "output_type": "stream",
     "text": [
      "El top 3 paises campeones es: \n",
      "     Oro  Plata  Bronce  Total                        Pais\n",
      "25  39.0   41.0    33.0    113   Estados Unidos de America\n",
      "72  38.0   32.0    18.0     88  Republica Popular de China\n",
      "73   2.0   28.0    23.0     71                         ROC\n"
     ]
    }
   ],
   "source": [
    "#Encontrando los 3 mejores resultados en la columna Total\n",
    "top3 = df.nlargest(3, \"Total\")\n",
    "print(\"El top 3 paises campeones es: \")\n",
    "print(top3)"
   ]
  },
  {
   "cell_type": "code",
   "execution_count": 75,
   "id": "ea4ebbe0-f4dc-4e14-8e62-292947cd3125",
   "metadata": {},
   "outputs": [
    {
     "name": "stdout",
     "output_type": "stream",
     "text": [
      "Los paises con mas de 10 medallas: \n",
      "     Oro  Plata  Bronce  Total                        Pais\n",
      "25  39.0   41.0    33.0    113   Estados Unidos de America\n",
      "72  38.0   32.0    18.0     88  Republica Popular de China\n",
      "73   2.0   28.0    23.0     71                         ROC\n",
      "34  22.0   21.0    22.0     65                Gran Bretana\n",
      "46  27.0   14.0    17.0     58                       Japon\n",
      "2   17.0    7.0    22.0     46                   Australia\n",
      "32   1.0   11.0    16.0     37                     Germany\n",
      "60   1.0   12.0    14.0     36                 Netherlands\n",
      "30   1.0   12.0    11.0     33                      France\n",
      "14   7.0    6.0    11.0     24                      Canada\n",
      "11   7.0    6.0     8.0     21                      Brazil\n",
      "90   1.0    6.0    12.0     19                     Ukraine\n",
      "81   3.0    8.0     6.0     17                       Spain\n",
      "19   7.0    3.0     5.0     15                        Cuba\n",
      "66   4.0    5.0     5.0     14                      Poland\n",
      "83   3.0    4.0     6.0     13                 Switzerland\n",
      "87   2.0    2.0     9.0     13                      Turkey\n",
      "15   2.0    4.0     6.0     12              Chinese Taipei\n",
      "21   3.0    4.0     4.0     11                     Denmark\n",
      "20   4.0    4.0     3.0     11              Czech Republic\n"
     ]
    }
   ],
   "source": [
    "#Los países que ganaron más de 10 medallas en total.\n",
    "filtradoPaises = df[df[\"Total\"] > 10]\n",
    "print(\"Los paises con mas de 10 medallas: \")\n",
    "filtradoOrdenado = filtradoPaises.sort_values(by=\"Total\", ascending=False)\n",
    "print(filtradoOrdenado)"
   ]
  }
 ],
 "metadata": {
  "kernelspec": {
   "display_name": "Python 3 (ipykernel)",
   "language": "python",
   "name": "python3"
  },
  "language_info": {
   "codemirror_mode": {
    "name": "ipython",
    "version": 3
   },
   "file_extension": ".py",
   "mimetype": "text/x-python",
   "name": "python",
   "nbconvert_exporter": "python",
   "pygments_lexer": "ipython3",
   "version": "3.12.4"
  }
 },
 "nbformat": 4,
 "nbformat_minor": 5
}
